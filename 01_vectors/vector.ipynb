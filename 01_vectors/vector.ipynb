{
 "cells": [
  {
   "cell_type": "code",
   "execution_count": 1,
   "metadata": {},
   "outputs": [],
   "source": [
    "from math import sqrt, acos, pi\n",
    "from decimal import Decimal, getcontext\n",
    "\n",
    "getcontext().prec = 30\n",
    "\n",
    "\n",
    "class Vector(object):\n",
    "    \n",
    "    CANNOT_NORMALIZE_ZERO_VECTOR_MSG = 'Cannot normalize the zero vector'\n",
    "    NO_UNIQUE_PARALLEL_COMPONENT_MSG = 'No Unique parallel component'\n",
    "    NO_UNIQUE_ORTHOGONAL_COMPONENT_MSG = 'NO Unique Orthogonal component'\n",
    "\n",
    "    def __init__(self, coordinates):\n",
    "        try:\n",
    "            if not coordinates:\n",
    "                raise ValueError\n",
    "            self.coordinates = tuple([Decimal(x) for x in coordinates])\n",
    "            self.dimension = len(self.coordinates)\n",
    "\n",
    "        except ValueError:\n",
    "            raise ValueError('The coordinates must be nonempty')\n",
    "\n",
    "        except TypeError:\n",
    "            raise TypeError('The coordinates must be an iterable')\n",
    "\n",
    "    def __str__(self):\n",
    "        return 'Vector: {}'.format(self.coordinates)\n",
    "\n",
    "    def __eq__(self, v):\n",
    "        return self.coordinates == v.coordinates\n",
    "\n",
    "    def magnitude(self):\n",
    "        coordinates_squared = [x ** 2 for x in self.coordinates]\n",
    "#         return sqrt(sum(coordinates_squared))\n",
    "        return Decimal(sum(coordinates_squared)).sqrt()\n",
    "\n",
    "    def normalised(self):\n",
    "        try:\n",
    "            magnitude = self.magnitude()\n",
    "            return self.times_scalar(Decimal(1.0) / magnitude)\n",
    "\n",
    "        except ZeroDivisionError:\n",
    "            raise Exception('Cannot normalize the zero vector')\n",
    "\n",
    "    def plus(self, v):\n",
    "        #new_coordinates = [x + y for x, y in zip(self.coordinates, v.coordinates)]\n",
    "        new_coordinates = []\n",
    "        n = len(self.coordinates)\n",
    "        for i in range(n):\n",
    "            new_coordinates.append(self.coordinates[i] + v.coordinates[i])\n",
    "        return Vector(new_coordinates)\n",
    "\n",
    "    def minus(self, v):\n",
    "        new_coordinates = [x - y for x, y in zip(self.coordinates, v.coordinates)]\n",
    "        return Vector(new_coordinates)\n",
    "\n",
    "    def times_scalar(self, c):\n",
    "        new_coordinates = [Decimal(c) * x for x in self.coordinates]\n",
    "        return Vector(new_coordinates)\n",
    "\n",
    "    def dot(self, v):\n",
    "        return sum([x * y for x, y in zip(self.coordinates, v.coordinates)])\n",
    "\n",
    "    def angle_with(self, v, in_degrees=False):\n",
    "        try:\n",
    "            u1 = self.normalised()\n",
    "            u2 = v.normalised()\n",
    "            angle_in_radians = acos(u1.dot(u2))\n",
    "\n",
    "            if in_degrees:\n",
    "                degrees_per_radian = 180. / pi\n",
    "                return angle_in_radians * degrees_per_radian\n",
    "            else:\n",
    "                return angle_in_radians\n",
    "\n",
    "        except Exception as e:\n",
    "            if str(e) == self.CANNOT_NORMALIZE_ZERO_VECTOR_MSG:\n",
    "                raise Exception('Cannot comput an angle with a zero vector')\n",
    "            else:\n",
    "                raise e\n",
    "                \n",
    "    def is_orthogonal_to(self, v, tolerance=1e-10):\n",
    "        return abs(self.dot(v)) < tolerance\n",
    "\n",
    "    def is_parallel_to(self, v):\n",
    "        return self.is_zero() or v.is_zero() or self.angle_with(v) == 0 or self.angle_with(v) == pi\n",
    "\n",
    "    def is_zero(self, tolerance=1e-10):\n",
    "        return self.magnitude() < tolerance\n",
    "    \n",
    "    def component_parallel_to(self, basis):\n",
    "        try:\n",
    "            u = basis.normalised()\n",
    "            weight = self.dot(u)\n",
    "            return u.times_scalar(weight)\n",
    "        \n",
    "        except Exception as e:\n",
    "            if str(e) == self.CANNOT_NORMALIZE_ZERO_VECTOR_MSG:\n",
    "                raise Exception(self.NO_UNIQUE_PARALLEL_COMPONENT_MSG)\n",
    "            else:\n",
    "                raise e\n",
    "    \n",
    "    def component_orthogonal_to(self, basis):\n",
    "        try:\n",
    "            projection = self.component_parallel_to(basis)\n",
    "            return self.minus(projection)\n",
    "        except Exception as e:\n",
    "            if str(e) == self.NO_UNIQUE_PARALLEL_COMPONENT_MSG:\n",
    "                raise Exception(self.NO_UNIQUE_ORTHOGONAL_COMPONENT_MSG)\n",
    "            else:\n",
    "                raise e\n",
    "                \n",
    "    def cross(self,v):\n",
    "        try:\n",
    "            x1,y1,z1 = self.coordinates\n",
    "            x2,y2,z2 = v.coordinates\n",
    "            new_coordinates = [y1*z2-y2*z1,-(x1*z2-x2*z1),x1*y2-x2*y1]\n",
    "            return Vector(new_coordinates)\n",
    "        \n",
    "        except ValueError as e:\n",
    "            msg = str(e)\n",
    "            if msg == ('need more than 2 values to unpack'):\n",
    "                self_make_R3 = Vector(self.coordinates + ('0',))\n",
    "                v_make_R3 = Vector(v.coordinates + ('0',))\n",
    "                return self_make_R3.cross(v_make_R3)\n",
    "            \n",
    "            elif(msg == 'too many values to unpack' or\n",
    "                 msg == 'need more than 1 value to unpack'):\n",
    "                raise Exception('Only defined in two dimension')\n",
    "            else:\n",
    "                raise e\n",
    "\n",
    "\n",
    "    def area_of_parallelogram_with(self,v):\n",
    "        cross_product = self.cross(v)\n",
    "        return cross_product.magnitude()\n",
    "\n",
    "    def area_of_triangle_with(self,v):\n",
    "        return self.area_of_parallelogram_with(v)/Decimal('2.0')\n"
   ]
  },
  {
   "cell_type": "code",
   "execution_count": 2,
   "metadata": {},
   "outputs": [],
   "source": [
    "my_vector = Vector([1,2,3])"
   ]
  },
  {
   "cell_type": "code",
   "execution_count": 3,
   "metadata": {},
   "outputs": [
    {
     "name": "stdout",
     "output_type": "stream",
     "text": [
      "Vector: (Decimal('1'), Decimal('2'), Decimal('3'))\n"
     ]
    }
   ],
   "source": [
    "print(my_vector)"
   ]
  },
  {
   "cell_type": "code",
   "execution_count": 4,
   "metadata": {},
   "outputs": [],
   "source": [
    "my_vector2 = Vector([1,2,3])"
   ]
  },
  {
   "cell_type": "code",
   "execution_count": 5,
   "metadata": {},
   "outputs": [],
   "source": [
    "my_vector3 = Vector([-1,2,3])"
   ]
  },
  {
   "cell_type": "code",
   "execution_count": 6,
   "metadata": {},
   "outputs": [
    {
     "name": "stdout",
     "output_type": "stream",
     "text": [
      "True\n"
     ]
    }
   ],
   "source": [
    "print(my_vector == my_vector2)"
   ]
  },
  {
   "cell_type": "code",
   "execution_count": 7,
   "metadata": {},
   "outputs": [
    {
     "name": "stdout",
     "output_type": "stream",
     "text": [
      "False\n"
     ]
    }
   ],
   "source": [
    "print(my_vector == my_vector3)"
   ]
  },
  {
   "cell_type": "code",
   "execution_count": null,
   "metadata": {},
   "outputs": [],
   "source": []
  },
  {
   "cell_type": "code",
   "execution_count": 8,
   "metadata": {},
   "outputs": [
    {
     "name": "stdout",
     "output_type": "stream",
     "text": [
      "7.089\n",
      "-7.229999999999999\n"
     ]
    }
   ],
   "source": [
    "print(8.218 + -1.129)\n",
    "print(-9.341 + 2.111)"
   ]
  },
  {
   "cell_type": "code",
   "execution_count": 9,
   "metadata": {},
   "outputs": [
    {
     "name": "stdout",
     "output_type": "stream",
     "text": [
      "Vector: (Decimal('7.088999999999999968025576891'), Decimal('-7.229999999999999094058011906'))\n"
     ]
    }
   ],
   "source": [
    "v = Vector([8.218, -9.341])\n",
    "w = Vector([-1.129, 2.111])\n",
    "\n",
    "print(v.plus(w))"
   ]
  },
  {
   "cell_type": "code",
   "execution_count": 10,
   "metadata": {},
   "outputs": [
    {
     "name": "stdout",
     "output_type": "stream",
     "text": [
      "15.342\n",
      "7.337\n"
     ]
    }
   ],
   "source": [
    "print(7.119 - -8.223)\n",
    "print(8.215 - 0.878)"
   ]
  },
  {
   "cell_type": "code",
   "execution_count": 11,
   "metadata": {},
   "outputs": [
    {
     "name": "stdout",
     "output_type": "stream",
     "text": [
      "Vector: (Decimal('15.34200000000000052580162446'), Decimal('7.336999999999999855226917589'))\n"
     ]
    }
   ],
   "source": [
    "v = Vector([7.119, 8.215])\n",
    "w = Vector([-8.223, 0.878])\n",
    "\n",
    "print(v.minus(w))"
   ]
  },
  {
   "cell_type": "code",
   "execution_count": 12,
   "metadata": {},
   "outputs": [
    {
     "name": "stdout",
     "output_type": "stream",
     "text": [
      "12.38211\n",
      "-7.49892\n",
      "-2.35638\n"
     ]
    }
   ],
   "source": [
    "print(7.41 * 1.671)\n",
    "print(7.41 * -1.012)\n",
    "print(7.41 * -0.318)"
   ]
  },
  {
   "cell_type": "code",
   "execution_count": 13,
   "metadata": {},
   "outputs": [
    {
     "name": "stdout",
     "output_type": "stream",
     "text": [
      "Vector: (Decimal('12.38211000000000054020787843'), Decimal('-7.498920000000000222790674798'), Decimal('-2.356380000000000081388229489'))\n"
     ]
    }
   ],
   "source": [
    "c = 7.41\n",
    "v = Vector([1.671, -1.012, -0.318])\n",
    "\n",
    "print(v.times_scalar(c))"
   ]
  },
  {
   "cell_type": "code",
   "execution_count": 14,
   "metadata": {},
   "outputs": [
    {
     "name": "stdout",
     "output_type": "stream",
     "text": [
      "7.440282924728064675549167963\n"
     ]
    }
   ],
   "source": [
    "v = Vector([-0.221, 7.437])\n",
    "print(v.magnitude())"
   ]
  },
  {
   "cell_type": "code",
   "execution_count": 15,
   "metadata": {},
   "outputs": [
    {
     "name": "stdout",
     "output_type": "stream",
     "text": [
      "10.88418756729228776690849357\n"
     ]
    }
   ],
   "source": [
    "v = Vector([8.813, -1.331, -6.247])\n",
    "print(v.magnitude())"
   ]
  },
  {
   "cell_type": "code",
   "execution_count": 16,
   "metadata": {},
   "outputs": [
    {
     "name": "stdout",
     "output_type": "stream",
     "text": [
      "Vector: (Decimal('0.9339352140866403209395391566'), Decimal('-0.3574423252623299934727680370'))\n"
     ]
    }
   ],
   "source": [
    "v = Vector([5.581, -2.136])\n",
    "print(v.normalised())"
   ]
  },
  {
   "cell_type": "code",
   "execution_count": 17,
   "metadata": {},
   "outputs": [
    {
     "name": "stdout",
     "output_type": "stream",
     "text": [
      "Vector: (Decimal('0.3404012959433013534467308533'), Decimal('0.5300437012984872951141974901'), Decimal('-0.7766470449528028348026506789'))\n"
     ]
    }
   ],
   "source": [
    "v = Vector([1.996, 3.108, -4.554])\n",
    "print(v.normalised())"
   ]
  },
  {
   "cell_type": "code",
   "execution_count": 18,
   "metadata": {},
   "outputs": [
    {
     "data": {
      "text/plain": [
       "-41.382286"
      ]
     },
     "execution_count": 18,
     "metadata": {},
     "output_type": "execute_result"
    }
   ],
   "source": [
    "(7.887* -8.802) + (4.138 * 6.776)"
   ]
  },
  {
   "cell_type": "code",
   "execution_count": 19,
   "metadata": {},
   "outputs": [
    {
     "name": "stdout",
     "output_type": "stream",
     "text": [
      "-41.38228599999999454398391663\n"
     ]
    }
   ],
   "source": [
    "v = Vector([7.887, 4.138])\n",
    "w = Vector([-8.802, 6.776])\n",
    "\n",
    "print(v.dot(w))"
   ]
  },
  {
   "cell_type": "code",
   "execution_count": 20,
   "metadata": {},
   "outputs": [
    {
     "data": {
      "text/plain": [
       "56.397178000000004"
      ]
     },
     "execution_count": 20,
     "metadata": {},
     "output_type": "execute_result"
    }
   ],
   "source": [
    "(-5.955 * -4.496) + (-4.904 * -8.755) + (-1.874 * 7.103) "
   ]
  },
  {
   "cell_type": "code",
   "execution_count": 21,
   "metadata": {},
   "outputs": [
    {
     "name": "stdout",
     "output_type": "stream",
     "text": [
      "56.39717800000000569975711073\n"
     ]
    }
   ],
   "source": [
    "v = Vector([-5.955, -4.904, -1.874])\n",
    "w = Vector([-4.496, -8.755, 7.103])\n",
    "\n",
    "print(v.dot(w))"
   ]
  },
  {
   "cell_type": "code",
   "execution_count": 22,
   "metadata": {},
   "outputs": [
    {
     "name": "stdout",
     "output_type": "stream",
     "text": [
      "3.0720941120523664\n"
     ]
    }
   ],
   "source": [
    "v = Vector([3.183, -7.627])\n",
    "w = Vector([-2.668, 5.3199])\n",
    "\n",
    "print(v.angle_with(w))"
   ]
  },
  {
   "cell_type": "code",
   "execution_count": 23,
   "metadata": {},
   "outputs": [
    {
     "name": "stdout",
     "output_type": "stream",
     "text": [
      "60.27581120523091\n"
     ]
    }
   ],
   "source": [
    "v = Vector([7.35, 0.221, 5.188])\n",
    "w = Vector([2.751, 8.259, 3.985])\n",
    "\n",
    "print(v.angle_with(w, in_degrees=True))"
   ]
  },
  {
   "cell_type": "code",
   "execution_count": 24,
   "metadata": {},
   "outputs": [
    {
     "name": "stdout",
     "output_type": "stream",
     "text": [
      "False\n",
      "True\n",
      "False\n"
     ]
    }
   ],
   "source": [
    "v = Vector([-7.579, -7.88])\n",
    "w = Vector([22.737, 23.64])\n",
    "\n",
    "print(v.is_orthogonal_to(w))\n",
    "print(v.is_parallel_to(w))\n",
    "print(v.is_zero())"
   ]
  },
  {
   "cell_type": "code",
   "execution_count": 25,
   "metadata": {},
   "outputs": [
    {
     "name": "stdout",
     "output_type": "stream",
     "text": [
      "False\n",
      "False\n",
      "False\n"
     ]
    }
   ],
   "source": [
    "v = Vector([-2.029, 9.97, 4.172])\n",
    "w = Vector([-9.231, -6.639, -7.245])\n",
    "\n",
    "print(v.is_orthogonal_to(w))\n",
    "print(v.is_parallel_to(w))\n",
    "print(v.is_zero())"
   ]
  },
  {
   "cell_type": "code",
   "execution_count": 26,
   "metadata": {},
   "outputs": [
    {
     "name": "stdout",
     "output_type": "stream",
     "text": [
      "True\n",
      "False\n",
      "False\n"
     ]
    }
   ],
   "source": [
    "v = Vector([-2.328, -7.284, -1.214])\n",
    "w = Vector([-1.821, 1.072, -2.94])\n",
    "\n",
    "print(v.is_orthogonal_to(w))\n",
    "print(v.is_parallel_to(w))\n",
    "print(v.is_zero())"
   ]
  },
  {
   "cell_type": "code",
   "execution_count": 27,
   "metadata": {},
   "outputs": [
    {
     "name": "stdout",
     "output_type": "stream",
     "text": [
      "True\n",
      "True\n",
      "False\n"
     ]
    }
   ],
   "source": [
    "v = Vector([2.118, 4.827])\n",
    "w = Vector([0, 0])\n",
    "\n",
    "print(v.is_orthogonal_to(w))\n",
    "print(v.is_parallel_to(w))\n",
    "print(v.is_zero())"
   ]
  },
  {
   "cell_type": "code",
   "execution_count": 28,
   "metadata": {},
   "outputs": [
    {
     "name": "stdout",
     "output_type": "stream",
     "text": [
      "Vector: (Decimal('1.082606962484466633513478909'), Decimal('2.671742758325302083755623254'))\n"
     ]
    }
   ],
   "source": [
    "v = Vector([3.039, 1.879])\n",
    "w = Vector([0.825, 2.036])\n",
    "\n",
    "print(v.component_parallel_to(w))"
   ]
  },
  {
   "cell_type": "code",
   "execution_count": 29,
   "metadata": {},
   "outputs": [
    {
     "name": "stdout",
     "output_type": "stream",
     "text": [
      "Vector: (Decimal('-8.350081043195763114117174637'), Decimal('3.376061254287719853135464877'), Decimal('-1.433746042781185897982350548'))\n"
     ]
    }
   ],
   "source": [
    "v = Vector([-9.88, -3.264, -8.159])\n",
    "w = Vector([-2.155, -9.353, -9.473])\n",
    "\n",
    "print(v.component_orthogonal_to(w))"
   ]
  },
  {
   "cell_type": "code",
   "execution_count": 30,
   "metadata": {},
   "outputs": [
    {
     "name": "stdout",
     "output_type": "stream",
     "text": [
      "Vector: (Decimal('1.968516167214089824655988641'), Decimal('-2.810760748439356316065414000'), Decimal('0.8480849633578503584828686371'), Decimal('2.679813233256157911289340035'))\n",
      "Vector: (Decimal('1.040483832785910072315314674'), Decimal('-3.361239251560643392612064338'), Decimal('2.843915036642149812047387945'), Decimal('-5.189813233256157698126519307'))\n"
     ]
    }
   ],
   "source": [
    "v = Vector([3.009, -6.172, 3.692, -2.51])\n",
    "w = Vector([6.404, -9.144, 2.759, 8.718])\n",
    "\n",
    "print(v.component_parallel_to(w))\n",
    "print(v.component_orthogonal_to(w))"
   ]
  },
  {
   "cell_type": "code",
   "execution_count": 31,
   "metadata": {},
   "outputs": [
    {
     "name": "stdout",
     "output_type": "stream",
     "text": [
      "Vector: (Decimal('-11.20457099999999773371683886'), Decimal('-97.60944399999999084633373058'), Decimal('-105.6851619999999939140451488'))\n"
     ]
    }
   ],
   "source": [
    "v = Vector([8.462, 7.893, -8.187])\n",
    "w = Vector([6.984, -5.975, 4.778])\n",
    "\n",
    "print(v.cross(w))"
   ]
  },
  {
   "cell_type": "code",
   "execution_count": 32,
   "metadata": {},
   "outputs": [
    {
     "name": "stdout",
     "output_type": "stream",
     "text": [
      "142.1222214018463287494546634\n"
     ]
    }
   ],
   "source": [
    "v = Vector([-8.987, -9.838, 5.031])\n",
    "w = Vector([-4.268, -1.861, -8.866])\n",
    "\n",
    "print(v.area_of_parallelogram_with(w))"
   ]
  },
  {
   "cell_type": "code",
   "execution_count": 33,
   "metadata": {},
   "outputs": [
    {
     "name": "stdout",
     "output_type": "stream",
     "text": [
      "42.56493739941893351623305821\n"
     ]
    }
   ],
   "source": [
    "v = Vector([1.5, 9.547, 3.691])\n",
    "w = Vector([-6.007, 0.124, 5.772])\n",
    "\n",
    "print(v.area_of_triangle_with(w))"
   ]
  },
  {
   "cell_type": "code",
   "execution_count": null,
   "metadata": {},
   "outputs": [],
   "source": []
  }
 ],
 "metadata": {
  "kernelspec": {
   "display_name": "Python 3",
   "language": "python",
   "name": "python3"
  },
  "language_info": {
   "codemirror_mode": {
    "name": "ipython",
    "version": 3
   },
   "file_extension": ".py",
   "mimetype": "text/x-python",
   "name": "python",
   "nbconvert_exporter": "python",
   "pygments_lexer": "ipython3",
   "version": "3.7.1"
  }
 },
 "nbformat": 4,
 "nbformat_minor": 2
}
