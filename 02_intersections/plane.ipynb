{
 "cells": [
  {
   "cell_type": "code",
   "execution_count": 1,
   "metadata": {},
   "outputs": [],
   "source": [
    "from decimal import Decimal, getcontext\n",
    "\n",
    "from vector import Vector\n",
    "\n",
    "getcontext().prec = 30\n",
    "\n",
    "\n",
    "class Plane:\n",
    "\n",
    "    NO_NONZERO_ELTS_FOUND_MSG = 'No nonzero elements found'\n",
    "\n",
    "    def __init__(self, normal_vector=None, constant_term=None):\n",
    "        self.dimension = 3\n",
    "\n",
    "        if not normal_vector:\n",
    "            all_zeros = ['0']*self.dimension\n",
    "            normal_vector = Vector(all_zeros)\n",
    "        self.normal_vector = normal_vector\n",
    "\n",
    "        if not constant_term:\n",
    "            constant_term = Decimal('0')\n",
    "        self.constant_term = Decimal(constant_term)\n",
    "\n",
    "        self.set_basepoint()\n",
    "\n",
    "\n",
    "    def set_basepoint(self):\n",
    "        try:\n",
    "            n = self.normal_vector\n",
    "            c = self.constant_term\n",
    "            basepoint_coords = ['0']*self.dimension\n",
    "\n",
    "            initial_index = Plane.first_nonzero_index(n.coordinates)\n",
    "            initial_coefficient = n.coordinates[initial_index]\n",
    "\n",
    "            basepoint_coords[initial_index] = c/initial_coefficient\n",
    "            self.basepoint = Vector(basepoint_coords)\n",
    "\n",
    "        except Exception as e:\n",
    "            if str(e) == Plane.NO_NONZERO_ELTS_FOUND_MSG:\n",
    "                self.basepoint = None\n",
    "            else:\n",
    "                raise e\n",
    "\n",
    "\n",
    "    def __str__(self):\n",
    "\n",
    "        num_decimal_places = 3\n",
    "\n",
    "        def write_coefficient(coefficient, is_initial_term=False):\n",
    "            coefficient = round(coefficient, num_decimal_places)\n",
    "            if coefficient % 1 == 0:\n",
    "                coefficient = int(coefficient)\n",
    "\n",
    "            output = ''\n",
    "\n",
    "            if coefficient < 0:\n",
    "                output += '-'\n",
    "            if coefficient > 0 and not is_initial_term:\n",
    "                output += '+'\n",
    "\n",
    "            if not is_initial_term:\n",
    "                output += ' '\n",
    "\n",
    "            if abs(coefficient) != 1:\n",
    "                output += '{}'.format(abs(coefficient))\n",
    "\n",
    "            return output\n",
    "\n",
    "        n = self.normal_vector\n",
    "\n",
    "        try:\n",
    "            initial_index = Plane.first_nonzero_index(n.coordinates)\n",
    "            terms = [write_coefficient(n.coordinates[i], is_initial_term=(i==initial_index)) + 'x_{}'.format(i+1)\n",
    "                     for i in range(self.dimension) if round(n.coordinates[i], num_decimal_places) != 0]\n",
    "            output = ' '.join(terms)\n",
    "\n",
    "        except Exception as e:\n",
    "            if str(e) == self.NO_NONZERO_ELTS_FOUND_MSG:\n",
    "                output = '0'\n",
    "            else:\n",
    "                raise e\n",
    "\n",
    "        constant = round(self.constant_term, num_decimal_places)\n",
    "        if constant % 1 == 0:\n",
    "            constant = int(constant)\n",
    "        output += ' = {}'.format(constant)\n",
    "\n",
    "        return output\n",
    "\n",
    "\n",
    "    @staticmethod\n",
    "    def first_nonzero_index(iterable):\n",
    "        for k, item in enumerate(iterable):\n",
    "            if not MyDecimal(item).is_near_zero():\n",
    "                return k\n",
    "        raise Exception(Plane.NO_NONZERO_ELTS_FOUND_MSG)\n",
    "        \n",
    "        \n",
    "    def is_parallel_to(self, p):\n",
    "        n1 = self.normal_vector\n",
    "        n2 = p.normal_vector\n",
    "        \n",
    "        return n1.is_parallel_to(n2)\n",
    "    \n",
    "    \n",
    "    def __eq__(self, p):\n",
    "        \n",
    "        if self.normal_vector.is_zero(): \n",
    "            if not p.normal_vector.is_zero():\n",
    "                return False\n",
    "            else:\n",
    "                diff = self.constant_term - p.constant_term\n",
    "                return MyDecimal(diff).is_near_zero()\n",
    "            \n",
    "        elif p.normal_vector.is_zero():\n",
    "            return False\n",
    "\n",
    "        if not self.is_parallel_to(p):\n",
    "            return False\n",
    "        \n",
    "        x0 = self.basepoint\n",
    "        y0 = p.basepoint\n",
    "\n",
    "        basepoint_difference = x0.minus(y0)\n",
    "        \n",
    "        n = self.normal_vector\n",
    "        \n",
    "        return basepoint_difference.is_orthogonal_to(n)\n",
    "\n",
    "\n",
    "class MyDecimal(Decimal):\n",
    "    def is_near_zero(self, eps=1e-10):\n",
    "        return abs(self) < eps"
   ]
  },
  {
   "cell_type": "code",
   "execution_count": 2,
   "metadata": {},
   "outputs": [
    {
     "name": "stdout",
     "output_type": "stream",
     "text": [
      "1st pair of planes are parallel?: False\n",
      "1st pair of planes are equal?: False\n"
     ]
    }
   ],
   "source": [
    "p1 = Plane(normal_vector=Vector([-0.412, 3.806, 0.728]), constant_term=-3.46)\n",
    "p2 = Plane(normal_vector=Vector([1.03, -9515, -1.82]), constant_term=8.65)\n",
    "\n",
    "print('1st pair of planes are parallel?: {}'.format(p1.is_parallel_to(p2)))\n",
    "print('1st pair of planes are equal?: {}'.format(p1==p2))"
   ]
  },
  {
   "cell_type": "code",
   "execution_count": 3,
   "metadata": {},
   "outputs": [
    {
     "name": "stdout",
     "output_type": "stream",
     "text": [
      "2nd pair of planes are parallel?: False\n",
      "2nd pair of planes are equal?: False\n"
     ]
    }
   ],
   "source": [
    "p1 = Plane(normal_vector=Vector([2.611, 5.528, 0.283]), constant_term=4.6)\n",
    "p2 = Plane(normal_vector=Vector([7.715, 8.306, 5.342]), constant_term=3.76)\n",
    "\n",
    "print('2nd pair of planes are parallel?: {}'.format(p1.is_parallel_to(p2)))\n",
    "print('2nd pair of planes are equal?: {}'.format(p1==p2))"
   ]
  },
  {
   "cell_type": "code",
   "execution_count": 4,
   "metadata": {},
   "outputs": [
    {
     "name": "stdout",
     "output_type": "stream",
     "text": [
      "3rd pair of planes are parallel?: False\n",
      "3rd pair of planes are equal?: False\n"
     ]
    }
   ],
   "source": [
    "p1 = Plane(normal_vector=Vector([-7.926, 8.625, -7.212]), constant_term=-7.95)\n",
    "p2 = Plane(normal_vector=Vector([-2.642, 2.875, 2.404]), constant_term=-2.44)\n",
    "\n",
    "print('3rd pair of planes are parallel?: {}'.format(p1.is_parallel_to(p2)))\n",
    "print('3rd pair of planes are equal?: {}'.format(p1==p2))"
   ]
  },
  {
   "cell_type": "code",
   "execution_count": null,
   "metadata": {},
   "outputs": [],
   "source": []
  }
 ],
 "metadata": {
  "kernelspec": {
   "display_name": "Python 3",
   "language": "python",
   "name": "python3"
  },
  "language_info": {
   "codemirror_mode": {
    "name": "ipython",
    "version": 3
   },
   "file_extension": ".py",
   "mimetype": "text/x-python",
   "name": "python",
   "nbconvert_exporter": "python",
   "pygments_lexer": "ipython3",
   "version": "3.7.2"
  }
 },
 "nbformat": 4,
 "nbformat_minor": 2
}
